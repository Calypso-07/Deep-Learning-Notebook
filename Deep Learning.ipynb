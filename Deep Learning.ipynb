{
 "cells": [
  {
   "cell_type": "markdown",
   "id": "0b0d1412",
   "metadata": {
    "papermill": {
     "duration": 0.007736,
     "end_time": "2024-12-29T20:21:45.234371",
     "exception": false,
     "start_time": "2024-12-29T20:21:45.226635",
     "status": "completed"
    },
    "tags": []
   },
   "source": [
    "# Homework 4 "
   ]
  },
  {
   "cell_type": "markdown",
   "id": "259a979e",
   "metadata": {
    "papermill": {
     "duration": 0.006752,
     "end_time": "2024-12-29T20:21:45.248990",
     "exception": false,
     "start_time": "2024-12-29T20:21:45.242238",
     "status": "completed"
    },
    "tags": []
   },
   "source": [
    "## Introduction"
   ]
  },
  {
   "cell_type": "markdown",
   "id": "f41e1fd9",
   "metadata": {
    "papermill": {
     "duration": 0.006845,
     "end_time": "2024-12-29T20:21:45.263143",
     "exception": false,
     "start_time": "2024-12-29T20:21:45.256298",
     "status": "completed"
    },
    "tags": []
   },
   "source": [
    "In this notebook I will explain the program I wrote for our fourth competiton. I used several methods to make the data given cleaner and better for using to train my model. I used single imputer to impute missing values and onehotencoder to transform categorical values to numerical ones. Then I used the training set to train my neural network, found the parameters that worked the best, and finalized the model which gives a closer prediction to our target.\n",
    "\n"
   ]
  },
  {
   "cell_type": "markdown",
   "id": "6e12872f",
   "metadata": {
    "papermill": {
     "duration": 0.006666,
     "end_time": "2024-12-29T20:21:45.276821",
     "exception": false,
     "start_time": "2024-12-29T20:21:45.270155",
     "status": "completed"
    },
    "tags": []
   },
   "source": [
    "## Problem Understanding"
   ]
  },
  {
   "cell_type": "markdown",
   "id": "b2039a3b",
   "metadata": {
    "papermill": {
     "duration": 0.006659,
     "end_time": "2024-12-29T20:21:45.290464",
     "exception": false,
     "start_time": "2024-12-29T20:21:45.283805",
     "status": "completed"
    },
    "tags": []
   },
   "source": [
    "\n",
    "The objective of this project was to predict the target variable based on a syntetic train dataset. The dataset presented challenges such as missing values (null values) and mixed data types (non-numeric values), requiring robust preprocessing and feature engineering. The goal was to develop a reliable regression model that gave accurate predictions."
   ]
  },
  {
   "cell_type": "markdown",
   "id": "7adaf043",
   "metadata": {
    "papermill": {
     "duration": 0.006724,
     "end_time": "2024-12-29T20:21:45.304650",
     "exception": false,
     "start_time": "2024-12-29T20:21:45.297926",
     "status": "completed"
    },
    "tags": []
   },
   "source": [
    "\n",
    "The first thing that I did was to import all the libraries that will be necessary for me to move further. Then I created two dataframes called \"train\" and \"test\" which includes the data that is given to us to work on.\n",
    "\n",
    "The libraries I imported are used for these:\n",
    "\n",
    "pandas and numpy: for data manipulation and numerical computations.\n",
    "\n",
    "seaborn and matplotlib.pyplot: for data visualization.\n",
    "\n",
    "sklearn modules: for machine learning processes, including preprocessing, splitting the data, building models, and evaluation.\n",
    "\n",
    "scipy.stats: for statistical operations, such as calculating Z-scores for outlier detection.\n",
    "\n",
    "imblearn.over_sampling.SMOTE: for handling class imbalance by generating synthetic samples."
   ]
  },
  {
   "cell_type": "code",
   "execution_count": 1,
   "id": "472ef05d",
   "metadata": {
    "execution": {
     "iopub.execute_input": "2024-12-29T20:21:45.326771Z",
     "iopub.status.busy": "2024-12-29T20:21:45.326396Z",
     "iopub.status.idle": "2024-12-29T20:21:48.278056Z",
     "shell.execute_reply": "2024-12-29T20:21:48.276994Z"
    },
    "papermill": {
     "duration": 2.962206,
     "end_time": "2024-12-29T20:21:48.280204",
     "exception": false,
     "start_time": "2024-12-29T20:21:45.317998",
     "status": "completed"
    },
    "tags": []
   },
   "outputs": [],
   "source": [
    "import pandas as pd\n",
    "import numpy as np\n",
    "import seaborn as sns\n",
    "import matplotlib.pyplot as plt\n",
    "from sklearn.model_selection import train_test_split, cross_val_score\n",
    "from sklearn.preprocessing import StandardScaler, OneHotEncoder\n",
    "from sklearn.compose import ColumnTransformer\n",
    "from sklearn.impute import SimpleImputer\n",
    "from sklearn.metrics import f1_score, classification_report\n",
    "from sklearn.neural_network import MLPClassifier\n",
    "from sklearn.ensemble import RandomForestClassifier\n",
    "from scipy import stats\n",
    "\n",
    "# Load data\n",
    "train_data = pd.read_csv('/kaggle/input/math482-2024-2025-1-hw-04/train.csv')  # Replace with actual path\n",
    "test_data = pd.read_csv('/kaggle/input/math482-2024-2025-1-hw-04/test.csv')    # Replace with actual path\n"
   ]
  },
  {
   "cell_type": "markdown",
   "id": "9a978bd9",
   "metadata": {
    "papermill": {
     "duration": 0.006623,
     "end_time": "2024-12-29T20:21:48.294453",
     "exception": false,
     "start_time": "2024-12-29T20:21:48.287830",
     "status": "completed"
    },
    "tags": []
   },
   "source": [
    "## Data Visualization "
   ]
  },
  {
   "cell_type": "markdown",
   "id": "8e8f7edb",
   "metadata": {
    "papermill": {
     "duration": 0.006605,
     "end_time": "2024-12-29T20:21:48.308062",
     "exception": false,
     "start_time": "2024-12-29T20:21:48.301457",
     "status": "completed"
    },
    "tags": []
   },
   "source": [
    "With the code below, I gained a general understanding of our dataset. Nearly all of our features have null variables which should be filled or dropped ,and the datatypes included are either a float or an object."
   ]
  },
  {
   "cell_type": "markdown",
   "id": "84d49d8a",
   "metadata": {
    "papermill": {
     "duration": 0.007649,
     "end_time": "2024-12-29T20:21:48.323134",
     "exception": false,
     "start_time": "2024-12-29T20:21:48.315485",
     "status": "completed"
    },
    "tags": []
   },
   "source": [
    "After preparing my X train full and y train full by assigning columns without target to X_train_full, and the target column itself to y_train_full; I created a plot showing the Distribution of the target variable, indicating the how many times a certain target value occurs."
   ]
  },
  {
   "cell_type": "code",
   "execution_count": 2,
   "id": "b0ea8704",
   "metadata": {
    "execution": {
     "iopub.execute_input": "2024-12-29T20:21:48.346633Z",
     "iopub.status.busy": "2024-12-29T20:21:48.346276Z",
     "iopub.status.idle": "2024-12-29T20:21:48.995945Z",
     "shell.execute_reply": "2024-12-29T20:21:48.994728Z"
    },
    "papermill": {
     "duration": 0.664699,
     "end_time": "2024-12-29T20:21:48.998045",
     "exception": false,
     "start_time": "2024-12-29T20:21:48.333346",
     "status": "completed"
    },
    "tags": []
   },
   "outputs": [
    {
     "name": "stdout",
     "output_type": "stream",
     "text": [
      "<class 'pandas.core.frame.DataFrame'>\n",
      "RangeIndex: 22500 entries, 0 to 22499\n",
      "Data columns (total 23 columns):\n",
      " #   Column      Non-Null Count  Dtype  \n",
      "---  ------      --------------  -----  \n",
      " 0   id          22500 non-null  int64  \n",
      " 1   feature_01  20096 non-null  float64\n",
      " 2   feature_02  19612 non-null  object \n",
      " 3   feature_03  20033 non-null  object \n",
      " 4   feature_04  20141 non-null  float64\n",
      " 5   feature_05  20455 non-null  float64\n",
      " 6   feature_06  19557 non-null  float64\n",
      " 7   feature_07  19745 non-null  float64\n",
      " 8   feature_08  20973 non-null  float64\n",
      " 9   feature_09  19882 non-null  object \n",
      " 10  feature_10  20345 non-null  object \n",
      " 11  feature_11  19698 non-null  float64\n",
      " 12  feature_12  19869 non-null  float64\n",
      " 13  feature_13  19417 non-null  float64\n",
      " 14  feature_14  21257 non-null  object \n",
      " 15  feature_15  20853 non-null  float64\n",
      " 16  feature_16  20289 non-null  float64\n",
      " 17  feature_17  19406 non-null  float64\n",
      " 18  feature_18  21219 non-null  float64\n",
      " 19  feature_19  21088 non-null  object \n",
      " 20  feature_20  21129 non-null  object \n",
      " 21  feature_21  20557 non-null  float64\n",
      " 22  target      22500 non-null  int64  \n",
      "dtypes: float64(14), int64(2), object(7)\n",
      "memory usage: 3.9+ MB\n"
     ]
    },
    {
     "name": "stderr",
     "output_type": "stream",
     "text": [
      "/usr/local/lib/python3.10/dist-packages/seaborn/_oldcore.py:1119: FutureWarning: use_inf_as_na option is deprecated and will be removed in a future version. Convert inf values to NaN before operating instead.\n",
      "  with pd.option_context('mode.use_inf_as_na', True):\n"
     ]
    },
    {
     "data": {
      "image/png": "[encoded data removed]",
      "text/plain": [
       "<Figure size 640x480 with 1 Axes>"
      ]
     },
     "metadata": {},
     "output_type": "display_data"
    }
   ],
   "source": [
    "\n",
    "train_data.info()\n",
    "train_data.describe()\n",
    "train_data.head()\n",
    "\n",
    "target_column = \"target\"\n",
    "X_train_full = train_data.drop(columns=[target_column])\n",
    "y_train_full = train_data[target_column]\n",
    "X_test = test_data\n",
    "\n",
    "\n",
    "import seaborn as sns\n",
    "import matplotlib.pyplot as plt\n",
    "\n",
    "# Target distribution\n",
    "sns.histplot(y_train_full, kde=True)\n",
    "plt.title(\"Target Variable Distribution\")\n",
    "plt.show()"
   ]
  },
  {
   "cell_type": "markdown",
   "id": "080b1344",
   "metadata": {
    "papermill": {
     "duration": 0.010411,
     "end_time": "2024-12-29T20:21:49.023549",
     "exception": false,
     "start_time": "2024-12-29T20:21:49.013138",
     "status": "completed"
    },
    "tags": []
   },
   "source": [
    "## Preparing The Data"
   ]
  },
  {
   "cell_type": "markdown",
   "id": "b7e8f3e1",
   "metadata": {
    "papermill": {
     "duration": 0.007512,
     "end_time": "2024-12-29T20:21:49.039176",
     "exception": false,
     "start_time": "2024-12-29T20:21:49.031664",
     "status": "completed"
    },
    "tags": []
   },
   "source": [
    "I split the feature set into categorical and numerical columns. select_dtypes is used to identify categorical columns (i.e., columns with non-numeric data types). The other columns are considered numerical."
   ]
  },
  {
   "cell_type": "code",
   "execution_count": 3,
   "id": "0aa70d8a",
   "metadata": {
    "execution": {
     "iopub.execute_input": "2024-12-29T20:21:49.057431Z",
     "iopub.status.busy": "2024-12-29T20:21:49.057020Z",
     "iopub.status.idle": "2024-12-29T20:21:49.070450Z",
     "shell.execute_reply": "2024-12-29T20:21:49.069245Z"
    },
    "papermill": {
     "duration": 0.024641,
     "end_time": "2024-12-29T20:21:49.072523",
     "exception": false,
     "start_time": "2024-12-29T20:21:49.047882",
     "status": "completed"
    },
    "tags": []
   },
   "outputs": [],
   "source": [
    "\n",
    "# Identify categorical columns\n",
    "X = train_data.drop(columns=['target'])\n",
    "categorical_columns = X.select_dtypes(include=['object']).columns  # Define categorical columns here\n",
    "numerical_columns = X.select_dtypes(exclude=['object']).columns\n"
   ]
  },
  {
   "cell_type": "markdown",
   "id": "640f26c8",
   "metadata": {
    "papermill": {
     "duration": 0.007732,
     "end_time": "2024-12-29T20:21:49.088438",
     "exception": false,
     "start_time": "2024-12-29T20:21:49.080706",
     "status": "completed"
    },
    "tags": []
   },
   "source": [
    "Here I handled the missing values by imputing values.\n",
    "I used SimpleImputer to fill in missing values:\n",
    "\n",
    "For numerical columns, the missing values are replaced with the mean.\n",
    "\n",
    "For categorical columns, missing values are replaced with the most frequent value.\n",
    "The ColumnTransformer is used to apply different transformations (imputation) to numerical and categorical columns."
   ]
  },
  {
   "cell_type": "code",
   "execution_count": 4,
   "id": "8e0530ab",
   "metadata": {
    "execution": {
     "iopub.execute_input": "2024-12-29T20:21:49.106152Z",
     "iopub.status.busy": "2024-12-29T20:21:49.105724Z",
     "iopub.status.idle": "2024-12-29T20:21:49.245081Z",
     "shell.execute_reply": "2024-12-29T20:21:49.243832Z"
    },
    "papermill": {
     "duration": 0.150752,
     "end_time": "2024-12-29T20:21:49.247295",
     "exception": false,
     "start_time": "2024-12-29T20:21:49.096543",
     "status": "completed"
    },
    "tags": []
   },
   "outputs": [],
   "source": [
    "# Step 1: Handle missing values\n",
    "# Impute missing values for numerical columns with mean and categorical with most frequent\n",
    "imputer = ColumnTransformer(\n",
    "    transformers=[('num', SimpleImputer(strategy='mean'), numerical_columns),\n",
    "                  ('cat', SimpleImputer(strategy='most_frequent'), categorical_columns)]  # Now categorical_columns is defined\n",
    ")\n",
    "\n",
    "# Apply imputation to the training data\n",
    "X_imputed = imputer.fit_transform(X)\n",
    "X_test_imputed = imputer.transform(test_data)\n",
    "\n",
    "# Convert imputed data back to DataFrame\n",
    "X_imputed_df = pd.DataFrame(X_imputed, columns=numerical_columns.tolist() + categorical_columns.tolist())\n",
    "X_imputed_df.columns = X_imputed_df.columns.astype(str)  # Ensure all columns are strings\n",
    "\n",
    "# Ensure that we are only working with numerical columns\n",
    "numerical_data = X_imputed_df[numerical_columns]\n",
    "# Ensure that numerical_data contains only numeric values\n",
    "numerical_data = numerical_data.apply(pd.to_numeric, errors='coerce')\n",
    "\n",
    "# Handle any NaN values that may have been introduced by conversion\n",
    "numerical_data = numerical_data.fillna(numerical_data.mean())\n"
   ]
  },
  {
   "cell_type": "markdown",
   "id": "152cc492",
   "metadata": {
    "papermill": {
     "duration": 0.007798,
     "end_time": "2024-12-29T20:21:49.264078",
     "exception": false,
     "start_time": "2024-12-29T20:21:49.256280",
     "status": "completed"
    },
    "tags": []
   },
   "source": [
    "I used Z-scores to detect the outliers. It finds how far off each data point is from the mean and data points with Z-scores higher than 3 are considered outliers. The outliers are handled in 2 ways :\n",
    "1. Rows with Z-scores higher than 3 are removed. \n",
    "2. Outlier values are replaced with the 1st and 99th percentiles using np.clip."
   ]
  },
  {
   "cell_type": "code",
   "execution_count": 5,
   "id": "61eba911",
   "metadata": {
    "execution": {
     "iopub.execute_input": "2024-12-29T20:21:49.281516Z",
     "iopub.status.busy": "2024-12-29T20:21:49.281176Z",
     "iopub.status.idle": "2024-12-29T20:21:49.352285Z",
     "shell.execute_reply": "2024-12-29T20:21:49.351169Z"
    },
    "papermill": {
     "duration": 0.082037,
     "end_time": "2024-12-29T20:21:49.354272",
     "exception": false,
     "start_time": "2024-12-29T20:21:49.272235",
     "status": "completed"
    },
    "tags": []
   },
   "outputs": [],
   "source": [
    "\n",
    "# Step 1: Calculate Z-scores for outlier detection\n",
    "z_scores = np.abs(stats.zscore(numerical_data))\n",
    "\n",
    "# Option 1: Remove rows with outliers (z-score > 3)\n",
    "outliers = (z_scores > 3)  # True means outlier\n",
    "outliers_removed = numerical_data[~outliers.any(axis=1)]  # Remove rows where any feature is an outlier\n",
    "\n",
    "# Option 2: Cap the outliers to the 1st and 99th percentiles\n",
    "# Calculate the 1st and 99th percentiles\n",
    "lower_bound = numerical_data.quantile(0.01)\n",
    "upper_bound = numerical_data.quantile(0.99)\n",
    "\n",
    "# Cap the outliers\n",
    "numerical_data_capped = numerical_data.copy()\n",
    "numerical_data_capped = numerical_data_capped.apply(lambda x: np.clip(x, lower_bound[x.name], upper_bound[x.name]))\n",
    "\n",
    "# Now you can choose whether to continue with outliers_removed or numerical_data_capped\n",
    "# Example: Continue with capped outliers for preprocessing\n",
    "X_imputed_df[numerical_columns] = numerical_data_capped\n",
    "\n"
   ]
  },
  {
   "cell_type": "markdown",
   "id": "9f00c5b8",
   "metadata": {
    "papermill": {
     "duration": 0.007731,
     "end_time": "2024-12-29T20:21:49.370425",
     "exception": false,
     "start_time": "2024-12-29T20:21:49.362694",
     "status": "completed"
    },
    "tags": []
   },
   "source": [
    "As the feature engineering, I created a preprocessor with the column transformer. I used the Standard scaler for the numerical columns and the one hot encoder for the categorical columns. Which I explained below.\n",
    "\n",
    "StandardScaler: Scales numerical features to zero mean and unit variance, making them suitable for algorithms like neural networks that are sensitive to feature scaling.\n",
    "\n",
    "OneHotEncoder: Converts categorical variables into a one-hot encoded format (binary vectors), allowing the model to understand categorical data numerically."
   ]
  },
  {
   "cell_type": "code",
   "execution_count": 6,
   "id": "89446cf4",
   "metadata": {
    "execution": {
     "iopub.execute_input": "2024-12-29T20:21:49.387750Z",
     "iopub.status.busy": "2024-12-29T20:21:49.387421Z",
     "iopub.status.idle": "2024-12-29T20:21:49.392045Z",
     "shell.execute_reply": "2024-12-29T20:21:49.391002Z"
    },
    "papermill": {
     "duration": 0.015482,
     "end_time": "2024-12-29T20:21:49.393929",
     "exception": false,
     "start_time": "2024-12-29T20:21:49.378447",
     "status": "completed"
    },
    "tags": []
   },
   "outputs": [],
   "source": [
    "\n",
    "# Step 2: Feature Engineering\n",
    "# Apply OneHotEncoder to categorical columns\n",
    "preprocessor = ColumnTransformer(\n",
    "    transformers=[('num', StandardScaler(), numerical_columns),\n",
    "                  ('cat', OneHotEncoder(), categorical_columns)]\n",
    ")"
   ]
  },
  {
   "cell_type": "markdown",
   "id": "591a3359",
   "metadata": {
    "papermill": {
     "duration": 0.007837,
     "end_time": "2024-12-29T20:21:49.410173",
     "exception": false,
     "start_time": "2024-12-29T20:21:49.402336",
     "status": "completed"
    },
    "tags": []
   },
   "source": [
    "I applied the transformations (scaling for numerical and one-hot encoding for categorical columns) to the dataset using ColumnTransformer. The resulting data is stored as a sparse matrix, which we convert into a DataFrame for easier handling."
   ]
  },
  {
   "cell_type": "code",
   "execution_count": 7,
   "id": "3ed14251",
   "metadata": {
    "execution": {
     "iopub.execute_input": "2024-12-29T20:21:49.427506Z",
     "iopub.status.busy": "2024-12-29T20:21:49.427174Z",
     "iopub.status.idle": "2024-12-29T20:21:49.511810Z",
     "shell.execute_reply": "2024-12-29T20:21:49.510766Z"
    },
    "papermill": {
     "duration": 0.095532,
     "end_time": "2024-12-29T20:21:49.513674",
     "exception": false,
     "start_time": "2024-12-29T20:21:49.418142",
     "status": "completed"
    },
    "tags": []
   },
   "outputs": [],
   "source": [
    "\n",
    "# Step 3: Preprocess the features (numerical and categorical)\n",
    "X_preprocessed = preprocessor.fit_transform(X_imputed_df)\n",
    "\n",
    "# Convert the preprocessed data to a DataFrame\n",
    "X_preprocessed_df = pd.DataFrame(X_preprocessed)"
   ]
  },
  {
   "cell_type": "markdown",
   "id": "eb03b737",
   "metadata": {
    "papermill": {
     "duration": 0.007796,
     "end_time": "2024-12-29T20:21:49.529738",
     "exception": false,
     "start_time": "2024-12-29T20:21:49.521942",
     "status": "completed"
    },
    "tags": []
   },
   "source": [
    "After preprocessing,I droped certain features identified by their indices. I determined these features via the importances plot which is placed later in the program. Since I already dropped the least important 14 features, the plot that is shown below plots the 15th to 25th least important features instead. "
   ]
  },
  {
   "cell_type": "code",
   "execution_count": 8,
   "id": "e00d2fed",
   "metadata": {
    "execution": {
     "iopub.execute_input": "2024-12-29T20:21:49.547627Z",
     "iopub.status.busy": "2024-12-29T20:21:49.547166Z",
     "iopub.status.idle": "2024-12-29T20:21:49.560637Z",
     "shell.execute_reply": "2024-12-29T20:21:49.559554Z"
    },
    "papermill": {
     "duration": 0.024936,
     "end_time": "2024-12-29T20:21:49.562840",
     "exception": false,
     "start_time": "2024-12-29T20:21:49.537904",
     "status": "completed"
    },
    "tags": []
   },
   "outputs": [],
   "source": [
    "\n",
    "\n",
    "# Drop the least important features by their numeric index after one-hot encoding\n",
    "features_to_drop_indices = [28, 45, 27, 46, 16, 17,18,25,32,22, 33,39, 43, 48]\n",
    "\n",
    "# Drop columns by their indices in the preprocessed DataFrame\n",
    "X_preprocessed_df = X_preprocessed_df.drop(columns=X_preprocessed_df.columns[features_to_drop_indices], errors='ignore')"
   ]
  },
  {
   "cell_type": "markdown",
   "id": "5638ed62",
   "metadata": {
    "papermill": {
     "duration": 0.008026,
     "end_time": "2024-12-29T20:21:49.585645",
     "exception": false,
     "start_time": "2024-12-29T20:21:49.577619",
     "status": "completed"
    },
    "tags": []
   },
   "source": [
    "I split the given dataset into training and validation sets using train_test_split from sklearn.model_selection. This helps to validate the model on unseen data before final evaluation."
   ]
  },
  {
   "cell_type": "code",
   "execution_count": 9,
   "id": "90e3091e",
   "metadata": {
    "execution": {
     "iopub.execute_input": "2024-12-29T20:21:49.603617Z",
     "iopub.status.busy": "2024-12-29T20:21:49.603083Z",
     "iopub.status.idle": "2024-12-29T20:21:49.619371Z",
     "shell.execute_reply": "2024-12-29T20:21:49.618255Z"
    },
    "papermill": {
     "duration": 0.02774,
     "end_time": "2024-12-29T20:21:49.621545",
     "exception": false,
     "start_time": "2024-12-29T20:21:49.593805",
     "status": "completed"
    },
    "tags": []
   },
   "outputs": [],
   "source": [
    "\n",
    "# Define X and y\n",
    "X = train_data.drop(columns=['target'])  # Features (all columns except 'target')\n",
    "y = train_data['target']  # Target variable\n",
    "\n",
    "# Now split data into training and validation sets\n",
    "X_train, X_val, y_train, y_val = train_test_split(X_preprocessed_df, y, test_size=0.2, random_state=42)\n"
   ]
  },
  {
   "cell_type": "markdown",
   "id": "3573ad86",
   "metadata": {
    "papermill": {
     "duration": 0.007712,
     "end_time": "2024-12-29T20:21:49.637881",
     "exception": false,
     "start_time": "2024-12-29T20:21:49.630169",
     "status": "completed"
    },
    "tags": []
   },
   "source": [
    "Since the dataset probably have imbalanced classes (I had underfitting and overfitting issues so I added this functions to reduce those effects), SMOTE (Synthetic Minority Over-sampling Technique) is applied to generate synthetic samples for the minority class, making the training data more balanced and helping the model learn better."
   ]
  },
  {
   "cell_type": "code",
   "execution_count": 10,
   "id": "01d03968",
   "metadata": {
    "execution": {
     "iopub.execute_input": "2024-12-29T20:21:49.655838Z",
     "iopub.status.busy": "2024-12-29T20:21:49.655348Z",
     "iopub.status.idle": "2024-12-29T20:21:50.181438Z",
     "shell.execute_reply": "2024-12-29T20:21:50.180207Z"
    },
    "papermill": {
     "duration": 0.537078,
     "end_time": "2024-12-29T20:21:50.183351",
     "exception": false,
     "start_time": "2024-12-29T20:21:49.646273",
     "status": "completed"
    },
    "tags": []
   },
   "outputs": [],
   "source": [
    "\n",
    "from imblearn.over_sampling import SMOTE\n",
    "\n",
    "smote = SMOTE(random_state=42)\n",
    "X_train_resampled, y_train_resampled = smote.fit_resample(X_train, y_train)\n"
   ]
  },
  {
   "cell_type": "markdown",
   "id": "6eb65286",
   "metadata": {
    "papermill": {
     "duration": 0.007739,
     "end_time": "2024-12-29T20:21:50.200029",
     "exception": false,
     "start_time": "2024-12-29T20:21:50.192290",
     "status": "completed"
    },
    "tags": []
   },
   "source": [
    "## Exploratory Data Analysis"
   ]
  },
  {
   "cell_type": "markdown",
   "id": "a25f5021",
   "metadata": {
    "papermill": {
     "duration": 0.007749,
     "end_time": "2024-12-29T20:21:50.216158",
     "exception": false,
     "start_time": "2024-12-29T20:21:50.208409",
     "status": "completed"
    },
    "tags": []
   },
   "source": [
    "Then I created a random forest classifier to find the important features. I then fitted this model to my resampled train samples."
   ]
  },
  {
   "cell_type": "code",
   "execution_count": 11,
   "id": "f5b6bd9f",
   "metadata": {
    "execution": {
     "iopub.execute_input": "2024-12-29T20:21:50.233766Z",
     "iopub.status.busy": "2024-12-29T20:21:50.233255Z",
     "iopub.status.idle": "2024-12-29T20:22:01.188067Z",
     "shell.execute_reply": "2024-12-29T20:22:01.186583Z"
    },
    "papermill": {
     "duration": 10.96646,
     "end_time": "2024-12-29T20:22:01.190529",
     "exception": false,
     "start_time": "2024-12-29T20:21:50.224069",
     "status": "completed"
    },
    "tags": []
   },
   "outputs": [
    {
     "data": {
      "text/html": [
       "<style>#sk-container-id-1 {color: black;background-color: white;}#sk-container-id-1 pre{padding: 0;}#sk-container-id-1 div.sk-toggleable {background-color: white;}#sk-container-id-1 label.sk-toggleable__label {cursor: pointer;display: block;width: 100%;margin-bottom: 0;padding: 0.3em;box-sizing: border-box;text-align: center;}#sk-container-id-1 label.sk-toggleable__label-arrow:before {content: \"▸\";float: left;margin-right: 0.25em;color: #696969;}#sk-container-id-1 label.sk-toggleable__label-arrow:hover:before {color: black;}#sk-container-id-1 div.sk-estimator:hover label.sk-toggleable__label-arrow:before {color: black;}#sk-container-id-1 div.sk-toggleable__content {max-height: 0;max-width: 0;overflow: hidden;text-align: left;background-color: #f0f8ff;}#sk-container-id-1 div.sk-toggleable__content pre {margin: 0.2em;color: black;border-radius: 0.25em;background-color: #f0f8ff;}#sk-container-id-1 input.sk-toggleable__control:checked~div.sk-toggleable__content {max-height: 200px;max-width: 100%;overflow: auto;}#sk-container-id-1 input.sk-toggleable__control:checked~label.sk-toggleable__label-arrow:before {content: \"▾\";}#sk-container-id-1 div.sk-estimator input.sk-toggleable__control:checked~label.sk-toggleable__label {background-color: #d4ebff;}#sk-container-id-1 div.sk-label input.sk-toggleable__control:checked~label.sk-toggleable__label {background-color: #d4ebff;}#sk-container-id-1 input.sk-hidden--visually {border: 0;clip: rect(1px 1px 1px 1px);clip: rect(1px, 1px, 1px, 1px);height: 1px;margin: -1px;overflow: hidden;padding: 0;position: absolute;width: 1px;}#sk-container-id-1 div.sk-estimator {font-family: monospace;background-color: #f0f8ff;border: 1px dotted black;border-radius: 0.25em;box-sizing: border-box;margin-bottom: 0.5em;}#sk-container-id-1 div.sk-estimator:hover {background-color: #d4ebff;}#sk-container-id-1 div.sk-parallel-item::after {content: \"\";width: 100%;border-bottom: 1px solid gray;flex-grow: 1;}#sk-container-id-1 div.sk-label:hover label.sk-toggleable__label {background-color: #d4ebff;}#sk-container-id-1 div.sk-serial::before {content: \"\";position: absolute;border-left: 1px solid gray;box-sizing: border-box;top: 0;bottom: 0;left: 50%;z-index: 0;}#sk-container-id-1 div.sk-serial {display: flex;flex-direction: column;align-items: center;background-color: white;padding-right: 0.2em;padding-left: 0.2em;position: relative;}#sk-container-id-1 div.sk-item {position: relative;z-index: 1;}#sk-container-id-1 div.sk-parallel {display: flex;align-items: stretch;justify-content: center;background-color: white;position: relative;}#sk-container-id-1 div.sk-item::before, #sk-container-id-1 div.sk-parallel-item::before {content: \"\";position: absolute;border-left: 1px solid gray;box-sizing: border-box;top: 0;bottom: 0;left: 50%;z-index: -1;}#sk-container-id-1 div.sk-parallel-item {display: flex;flex-direction: column;z-index: 1;position: relative;background-color: white;}#sk-container-id-1 div.sk-parallel-item:first-child::after {align-self: flex-end;width: 50%;}#sk-container-id-1 div.sk-parallel-item:last-child::after {align-self: flex-start;width: 50%;}#sk-container-id-1 div.sk-parallel-item:only-child::after {width: 0;}#sk-container-id-1 div.sk-dashed-wrapped {border: 1px dashed gray;margin: 0 0.4em 0.5em 0.4em;box-sizing: border-box;padding-bottom: 0.4em;background-color: white;}#sk-container-id-1 div.sk-label label {font-family: monospace;font-weight: bold;display: inline-block;line-height: 1.2em;}#sk-container-id-1 div.sk-label-container {text-align: center;}#sk-container-id-1 div.sk-container {/* jupyter's `normalize.less` sets `[hidden] { display: none; }` but bootstrap.min.css set `[hidden] { display: none !important; }` so we also need the `!important` here to be able to override the default hidden behavior on the sphinx rendered scikit-learn.org. See: https://github.com/scikit-learn/scikit-learn/issues/21755 */display: inline-block !important;position: relative;}#sk-container-id-1 div.sk-text-repr-fallback {display: none;}</style><div id=\"sk-container-id-1\" class=\"sk-top-container\"><div class=\"sk-text-repr-fallback\"><pre>RandomForestClassifier(random_state=42)</pre><b>In a Jupyter environment, please rerun this cell to show the HTML representation or trust the notebook. <br />On GitHub, the HTML representation is unable to render, please try loading this page with nbviewer.org.</b></div><div class=\"sk-container\" hidden><div class=\"sk-item\"><div class=\"sk-estimator sk-toggleable\"><input class=\"sk-toggleable__control sk-hidden--visually\" id=\"sk-estimator-id-1\" type=\"checkbox\" checked><label for=\"sk-estimator-id-1\" class=\"sk-toggleable__label sk-toggleable__label-arrow\">RandomForestClassifier</label><div class=\"sk-toggleable__content\"><pre>RandomForestClassifier(random_state=42)</pre></div></div></div></div></div>"
      ],
      "text/plain": [
       "RandomForestClassifier(random_state=42)"
      ]
     },
     "execution_count": 11,
     "metadata": {},
     "output_type": "execute_result"
    }
   ],
   "source": [
    "\n",
    "# Train a RandomForestClassifier for feature importance\n",
    "model_rf = RandomForestClassifier(random_state=42)\n",
    "model_rf.fit(X_train_resampled, y_train_resampled)"
   ]
  },
  {
   "cell_type": "markdown",
   "id": "8d4af693",
   "metadata": {
    "papermill": {
     "duration": 0.010739,
     "end_time": "2024-12-29T20:22:01.218948",
     "exception": false,
     "start_time": "2024-12-29T20:22:01.208209",
     "status": "completed"
    },
    "tags": []
   },
   "source": [
    "Here I used that model to find the feature importances and found the least important 10 features. Since I already dropped 14 least important features, the code below shows the ones after them and the plot has some features without values. "
   ]
  },
  {
   "cell_type": "code",
   "execution_count": 12,
   "id": "319d66a5",
   "metadata": {
    "execution": {
     "iopub.execute_input": "2024-12-29T20:22:01.237256Z",
     "iopub.status.busy": "2024-12-29T20:22:01.236887Z",
     "iopub.status.idle": "2024-12-29T20:22:01.592105Z",
     "shell.execute_reply": "2024-12-29T20:22:01.590722Z"
    },
    "papermill": {
     "duration": 0.366792,
     "end_time": "2024-12-29T20:22:01.594257",
     "exception": false,
     "start_time": "2024-12-29T20:22:01.227465",
     "status": "completed"
    },
    "tags": []
   },
   "outputs": [
    {
     "name": "stdout",
     "output_type": "stream",
     "text": [
      "    feature  importance\n",
      "24       31    0.007120\n",
      "26       35    0.007546\n",
      "35       49    0.007859\n",
      "34       47    0.008097\n",
      "28       37    0.008134\n",
      "33       44    0.008583\n",
      "16       19    0.008662\n",
      "23       30    0.008763\n",
      "32       42    0.009164\n",
      "30       40    0.009381\n"
     ]
    },
    {
     "data": {
      "image/png": "[encoded data removed]",
      "text/plain": [
       "<Figure size 1000x600 with 1 Axes>"
      ]
     },
     "metadata": {},
     "output_type": "display_data"
    }
   ],
   "source": [
    "\n",
    "# Get feature importances\n",
    "importances = model_rf.feature_importances_\n",
    "\n",
    "# Create a DataFrame for feature names and their corresponding importances\n",
    "feature_importance_df = pd.DataFrame({\n",
    "    'feature': X_train_resampled.columns,\n",
    "    'importance': importances\n",
    "})\n",
    "\n",
    "# Sort by importance in descending order\n",
    "feature_importance_df = feature_importance_df.sort_values(by='importance', ascending=True)\n",
    "\n",
    "# Print top 10 most important features\n",
    "print(feature_importance_df.head(10))\n",
    "\n",
    "# Plot the feature importances\n",
    "plt.figure(figsize=(10, 6))\n",
    "plt.barh(feature_importance_df['feature'], feature_importance_df['importance'])\n",
    "plt.xlabel('Importance')\n",
    "plt.ylabel('Feature')\n",
    "plt.title('Feature Importances (Random Forest)')\n",
    "plt.show()\n"
   ]
  },
  {
   "cell_type": "markdown",
   "id": "c44e3795",
   "metadata": {
    "papermill": {
     "duration": 0.008742,
     "end_time": "2024-12-29T20:22:01.612241",
     "exception": false,
     "start_time": "2024-12-29T20:22:01.603499",
     "status": "completed"
    },
    "tags": []
   },
   "source": [
    "## Solution Approach"
   ]
  },
  {
   "cell_type": "markdown",
   "id": "da3aebf3",
   "metadata": {
    "papermill": {
     "duration": 0.00867,
     "end_time": "2024-12-29T20:22:01.629675",
     "exception": false,
     "start_time": "2024-12-29T20:22:01.621005",
     "status": "completed"
    },
    "tags": []
   },
   "source": [
    "I used a Multi-Layer Perceptron (MLP) Classifier to build a neural network. The model architecture is defined as:\n",
    "\n",
    "hidden_layer_sizes: with 64 and 32 neurons.\n",
    "\n",
    "activation: ReLU (Rectified Linear Unit) is used as the activation function to introduce non-linearity.\n",
    "\n",
    "solver: Stochastic Gradient Descent (SGD) is chosen as the optimization algorithm.\n",
    "\n",
    "alpha: Regularization term to prevent overfitting.\n",
    "\n",
    "learning_rate_init: Initial learning rate.\n",
    "\n",
    "momentum: Helps accelerate SGD in the relevant direction.\n",
    "\n",
    "learning_rate: 'adaptive' adjusts the learning rate when the validation score is not improving.\n",
    "\n",
    "I used cross-validation to evaluate the model's performance before fitting it. I used the F1 score , as specified in the homework overview, to measure the model's performance, balancing precision and recall.\n",
    "\n",
    "I tried many different values for each of the hyperparameters and came to the conclusion that these values give the most accurate prediction I could get. "
   ]
  },
  {
   "cell_type": "code",
   "execution_count": 13,
   "id": "4104c570",
   "metadata": {
    "execution": {
     "iopub.execute_input": "2024-12-29T20:22:01.649076Z",
     "iopub.status.busy": "2024-12-29T20:22:01.648645Z",
     "iopub.status.idle": "2024-12-29T20:38:06.221305Z",
     "shell.execute_reply": "2024-12-29T20:38:06.219158Z"
    },
    "papermill": {
     "duration": 964.609179,
     "end_time": "2024-12-29T20:38:06.247928",
     "exception": false,
     "start_time": "2024-12-29T20:22:01.638749",
     "status": "completed"
    },
    "tags": []
   },
   "outputs": [
    {
     "name": "stdout",
     "output_type": "stream",
     "text": [
      "Cross-validation F1 Score: 0.4922\n"
     ]
    }
   ],
   "source": [
    "\n",
    "model_nn = MLPClassifier(\n",
    "    hidden_layer_sizes=( 64,32),\n",
    "    activation='relu',\n",
    "    solver='sgd',\n",
    "    max_iter=2000,\n",
    "    random_state=42,\n",
    "    alpha=0.001,\n",
    "    learning_rate_init=0.005,\n",
    "    momentum=0.9,\n",
    "    learning_rate='adaptive'\n",
    ")\n",
    "\n",
    "\n",
    "# Perform cross-validation to evaluate the model's performance\n",
    "cross_val_f1 = cross_val_score(model_nn, X_train_resampled, y_train_resampled, cv=5, scoring='f1_micro')\n",
    "print(f'Cross-validation F1 Score: {np.mean(cross_val_f1):.4f}')\n"
   ]
  },
  {
   "cell_type": "markdown",
   "id": "acac4363",
   "metadata": {
    "papermill": {
     "duration": 0.0258,
     "end_time": "2024-12-29T20:38:06.298634",
     "exception": false,
     "start_time": "2024-12-29T20:38:06.272834",
     "status": "completed"
    },
    "tags": []
   },
   "source": [
    "I trained the final model with the resampled data, and I had the validation F1 score to see the model's performance with another evaluation."
   ]
  },
  {
   "cell_type": "code",
   "execution_count": 14,
   "id": "345ace06",
   "metadata": {
    "execution": {
     "iopub.execute_input": "2024-12-29T20:38:06.336453Z",
     "iopub.status.busy": "2024-12-29T20:38:06.336112Z",
     "iopub.status.idle": "2024-12-29T20:42:03.682140Z",
     "shell.execute_reply": "2024-12-29T20:42:03.679187Z"
    },
    "papermill": {
     "duration": 237.387142,
     "end_time": "2024-12-29T20:42:03.710774",
     "exception": false,
     "start_time": "2024-12-29T20:38:06.323632",
     "status": "completed"
    },
    "tags": []
   },
   "outputs": [
    {
     "name": "stdout",
     "output_type": "stream",
     "text": [
      "Validation F1 Score: 0.3036\n",
      "Classification Report for Validation Set:\n",
      "               precision    recall  f1-score   support\n",
      "\n",
      "           0       0.19      0.26      0.22       419\n",
      "           1       0.37      0.35      0.36      1072\n",
      "           2       0.16      0.24      0.19       388\n",
      "           3       0.31      0.21      0.25      1142\n",
      "           4       0.13      0.19      0.16       314\n",
      "           5       0.44      0.42      0.43      1165\n",
      "\n",
      "    accuracy                           0.30      4500\n",
      "   macro avg       0.27      0.28      0.27      4500\n",
      "weighted avg       0.32      0.30      0.31      4500\n",
      "\n"
     ]
    }
   ],
   "source": [
    "\n",
    "# Train the model\n",
    "model_nn.fit(X_train_resampled, y_train_resampled)\n",
    "\n",
    "# Predict on the validation set\n",
    "y_val_pred = model_nn.predict(X_val)\n",
    "\n",
    "# Evaluate the model using F1 score\n",
    "f1 = f1_score(y_val, y_val_pred, average='micro')\n",
    "print(f'Validation F1 Score: {f1:.4f}')\n",
    "\n",
    "\n",
    "# Display detailed classification report\n",
    "print(\"Classification Report for Validation Set:\\n\", classification_report(y_val, y_val_pred))"
   ]
  },
  {
   "cell_type": "markdown",
   "id": "5c330068",
   "metadata": {
    "papermill": {
     "duration": 0.022094,
     "end_time": "2024-12-29T20:42:03.759456",
     "exception": false,
     "start_time": "2024-12-29T20:42:03.737362",
     "status": "completed"
    },
    "tags": []
   },
   "source": [
    "## Results Interpretation"
   ]
  },
  {
   "cell_type": "markdown",
   "id": "d55204c0",
   "metadata": {
    "papermill": {
     "duration": 0.009051,
     "end_time": "2024-12-29T20:42:03.778025",
     "exception": false,
     "start_time": "2024-12-29T20:42:03.768974",
     "status": "completed"
    },
    "tags": []
   },
   "source": [
    "The 0.4922 cross-validation F1 score showed me that the model is performing reasonably well when evaluated on multiple different training and validation splits. This suggests that the model may be capable of learning the patterns in the data, but the results do not perform this well with the validation set, as shown by the difference between the cross-validation and validation scores.\n",
    "\n",
    "The 0.3036 F1 score on the validation set is lower than the cross-validation score, indicating that the model's performance is worse on unseen data, which is a sign of potential overfitting.\n",
    "\n",
    "Even though I thought that increasing the aplha value in hyperparameter tuning would reduce the overfitting when I tried different hyperparameters I couldn't get a better F1 score. "
   ]
  },
  {
   "cell_type": "markdown",
   "id": "56e75ccd",
   "metadata": {
    "papermill": {
     "duration": 0.008974,
     "end_time": "2024-12-29T20:42:03.797137",
     "exception": false,
     "start_time": "2024-12-29T20:42:03.788163",
     "status": "completed"
    },
    "tags": []
   },
   "source": [
    "I had the test data undergo the same preprocessing steps as the training data. I created my submission file to submit as my final prediction. "
   ]
  },
  {
   "cell_type": "code",
   "execution_count": 15,
   "id": "8633442c",
   "metadata": {
    "_cell_guid": "b1076dfc-b9ad-4769-8c92-a6c4dae69d19",
    "_uuid": "8f2839f25d086af736a60e9eeb907d3b93b6e0e5",
    "execution": {
     "iopub.execute_input": "2024-12-29T20:42:03.817546Z",
     "iopub.status.busy": "2024-12-29T20:42:03.817114Z",
     "iopub.status.idle": "2024-12-29T20:42:03.897798Z",
     "shell.execute_reply": "2024-12-29T20:42:03.894599Z"
    },
    "papermill": {
     "duration": 0.094544,
     "end_time": "2024-12-29T20:42:03.900971",
     "exception": false,
     "start_time": "2024-12-29T20:42:03.806427",
     "status": "completed"
    },
    "tags": []
   },
   "outputs": [
    {
     "name": "stdout",
     "output_type": "stream",
     "text": [
      "Submission file saved as \"submission.csv\"\n"
     ]
    }
   ],
   "source": [
    "\n",
    "# Apply preprocessing to the test data\n",
    "X_test_imputed_df = pd.DataFrame(X_test_imputed, columns=numerical_columns.tolist() + categorical_columns.tolist())\n",
    "X_test_imputed_df.columns = X_test_imputed_df.columns.astype(str)\n",
    "\n",
    "X_test_preprocessed = preprocessor.transform(X_test_imputed_df)\n",
    "X_test_preprocessed_df = pd.DataFrame(X_test_preprocessed)\n",
    "\n",
    "# Drop columns from the test data\n",
    "X_test_preprocessed_df = X_test_preprocessed_df.drop(columns=X_test_preprocessed_df.columns[features_to_drop_indices], errors='ignore')\n",
    "\n",
    "# Now predict on the aligned test data\n",
    "y_test_pred = model_nn.predict(X_test_preprocessed_df)\n",
    "\n",
    "# Save predictions to CSV\n",
    "submission = pd.DataFrame({'id': test_data['id'], 'target': y_test_pred})\n",
    "submission.to_csv('submission.csv', index=False)\n",
    "\n",
    "print('Submission file saved as \"submission.csv\"')\n"
   ]
  },
  {
   "cell_type": "markdown",
   "id": "36b6fb88",
   "metadata": {
    "papermill": {
     "duration": 0.026661,
     "end_time": "2024-12-29T20:42:03.953035",
     "exception": false,
     "start_time": "2024-12-29T20:42:03.926374",
     "status": "completed"
    },
    "tags": []
   },
   "source": [
    "## Conclusion:"
   ]
  },
  {
   "cell_type": "markdown",
   "id": "b8bc53c3",
   "metadata": {
    "papermill": {
     "duration": 0.01254,
     "end_time": "2024-12-29T20:42:03.992022",
     "exception": false,
     "start_time": "2024-12-29T20:42:03.979482",
     "status": "completed"
    },
    "tags": []
   },
   "source": [
    "This program I wrote handles data preprocessing (missing values, outliers, encoding, scaling), performs feature engineering, builds and tunes a neural network model, and evaluates it using cross-validation and F1 score. The SMOTE technique ensures that the model learns from a balanced dataset, and feature importance analysis helps refine the model further.  The model is trained on a well-prepared dataset, taking into account the complexity of the data. Each step plays a crucial role in improving the model’s performance and contributes to the success of the final submission."
   ]
  }
 ],
 "metadata": {
  "kaggle": {
   "accelerator": "none",
   "dataSources": [
    {
     "databundleVersionId": 10507076,
     "sourceId": 90401,
     "sourceType": "competition"
    }
   ],
   "dockerImageVersionId": 30822,
   "isGpuEnabled": false,
   "isInternetEnabled": true,
   "language": "python",
   "sourceType": "notebook"
  },
  "kernelspec": {
   "display_name": "Python 3",
   "language": "python",
   "name": "python3"
  },
  "language_info": {
   "codemirror_mode": {
    "name": "ipython",
    "version": 3
   },
   "file_extension": ".py",
   "mimetype": "text/x-python",
   "name": "python",
   "nbconvert_exporter": "python",
   "pygments_lexer": "ipython3",
   "version": "3.10.12"
  },
  "papermill": {
   "default_parameters": {},
   "duration": 1221.976949,
   "end_time": "2024-12-29T20:42:04.826320",
   "environment_variables": {},
   "exception": null,
   "input_path": "__notebook__.ipynb",
   "output_path": "__notebook__.ipynb",
   "parameters": {},
   "start_time": "2024-12-29T20:21:42.849371",
   "version": "2.6.0"
  }
 },
 "nbformat": 4,
 "nbformat_minor": 5
}
